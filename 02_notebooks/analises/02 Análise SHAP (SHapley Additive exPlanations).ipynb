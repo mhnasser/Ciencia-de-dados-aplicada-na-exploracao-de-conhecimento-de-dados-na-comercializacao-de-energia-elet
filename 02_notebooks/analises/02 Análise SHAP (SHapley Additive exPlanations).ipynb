{
 "cells": [
  {
   "cell_type": "markdown",
   "id": "9348d8c6",
   "metadata": {},
   "source": [
    "# Imports"
   ]
  },
  {
   "cell_type": "code",
   "execution_count": null,
   "id": "2225ae37",
   "metadata": {},
   "outputs": [],
   "source": [
    "import pandas as pd\n",
    "import seaborn as sns\n",
    "import numpy as np\n",
    "import matplotlib.pyplot as plt\n",
    "import warnings\n",
    "\n",
    "from pathlib import Path\n",
    "from tqdm.notebook import tqdm\n",
    "from collections import defaultdict\n",
    "from sklearn.model_selection import train_test_split\n",
    "from sklearn.feature_selection import RFE\n",
    "from sklearn.linear_model import LinearRegression\n",
    "from sklearn.ensemble import RandomForestRegressor, GradientBoostingRegressor\n",
    "from sklearn.svm import SVR\n",
    "from sklearn.tree import DecisionTreeRegressor\n",
    "from xgboost import XGBRegressor\n",
    "from sklearn.preprocessing import RobustScaler"
   ]
  },
  {
   "cell_type": "markdown",
   "id": "653cf59c",
   "metadata": {},
   "source": [
    "# Configs"
   ]
  },
  {
   "cell_type": "code",
   "execution_count": null,
   "id": "eda94916",
   "metadata": {},
   "outputs": [],
   "source": [
    "data_path = Path(r'..\\..\\01_dados\\01_dados_analise\\01_dados_anomalia.csv')"
   ]
  },
  {
   "cell_type": "markdown",
   "id": "e79fedcd",
   "metadata": {},
   "source": [
    "# Funções e Classes de objetos"
   ]
  },
  {
   "cell_type": "code",
   "execution_count": null,
   "id": "3da91eb3",
   "metadata": {},
   "outputs": [],
   "source": [
    "def perform_shap_analysis(modelo, X_train, X_test, y_train, y_test, model_type=\"tree\"):\n",
    "    \"\"\"\n",
    "    Realiza a análise SHAP em um modelo dado e dados de treino e teste.\n",
    "\n",
    "    :param modelo: Modelo de machine learning para realizar a análise SHAP.\n",
    "    :model_type: object\n",
    "    :param X_train: Dados de entrada para treinamento do modelo.\n",
    "    :type X_train: numpy.ndarray\n",
    "    :param X_test: Dados de entrada para teste do modelo.\n",
    "    :type X_test: numpy.ndarray\n",
    "    :param y_train: Rótulos correspondentes aos dados de treinamento.\n",
    "    :type y_train: numpy.ndarray\n",
    "    :param y_test: Rótulos correspondentes aos dados de teste.\n",
    "    :type y_test: numpy.ndarray\n",
    "    :param tipo_modelo: Tipo do modelo para escolher o explicador SHAP adequado. Valores aceitáveis são \"tree\", \"linear\" e \"kernel\".\n",
    "    :type tipo_modelo: str\n",
    "\n",
    "    :raises ValueError: Se o `tipo_modelo` não for \"tree\", \"linear\" ou \"kernel\".\n",
    "\n",
    "    :return: None\n",
    "    \"\"\"\n",
    "\n",
    "    # Treina o modelo\n",
    "    modelo.fit(X_train, y_train)\n",
    "\n",
    "    # Escolhe o explicador adequado\n",
    "    if tipo_modelo == \"tree\":\n",
    "        explicador = shap.TreeExplainer(modelo)\n",
    "    elif tipo_modelo == \"linear\":\n",
    "        explicador = shap.LinearExplainer(modelo, X_train)\n",
    "    elif tipo_modelo == \"kernel\":\n",
    "        explicador = shap.KernelExplainer(modelo.predict, X_train)\n",
    "    else:\n",
    "        raise ValueError(\"tipo_modelo deve ser 'tree', 'linear' ou 'kernel'.\")\n",
    "\n",
    "    # Calcula os valores SHAP\n",
    "    shap_values = explicador.shap_values(X_test)\n",
    "\n",
    "    # Inicializa JS para plotagem\n",
    "    shap.initjs()\n",
    "\n",
    "    # Plota os valores SHAP para uma única previsão\n",
    "    shap.force_plot(explicador.expected_value, shap_values[0], X_test[0, :])\n",
    "\n",
    "    # Plota o gráfico de resumo SHAP para todos os recursos\n",
    "    shap.summary_plot(shap_values, X_test)"
   ]
  },
  {
   "cell_type": "markdown",
   "id": "f695080c",
   "metadata": {},
   "source": [
    "# Importação e preparação dos dados"
   ]
  },
  {
   "cell_type": "code",
   "execution_count": null,
   "id": "ab833e75",
   "metadata": {},
   "outputs": [],
   "source": [
    "df = pd.read_csv(data_path)\n",
    "df.head()"
   ]
  },
  {
   "cell_type": "code",
   "execution_count": null,
   "id": "924d004e",
   "metadata": {},
   "outputs": [],
   "source": [
    "# colocando o cmo no final do dataframe para facilitar a manipulação dos dados\n",
    "cols = [col for col in df if col != 'cmo'] + ['cmo']\n",
    "df = df[cols]"
   ]
  },
  {
   "cell_type": "code",
   "execution_count": null,
   "id": "c1232a55",
   "metadata": {},
   "outputs": [],
   "source": [
    "df_aux = df.copy()\n",
    "df_aux.drop(['id_subsistema', 'din_instante'], inplace=True, axis=1)"
   ]
  },
  {
   "cell_type": "code",
   "execution_count": null,
   "id": "44331678",
   "metadata": {},
   "outputs": [],
   "source": [
    "# Separando as variáveis para modelagem X são as variáveis independentes e Y a Variável indepentende\n",
    "X = df_aux.iloc[:, :-1].values \n",
    "Y = df_aux.iloc[:, -1].values \n",
    "\n",
    "scaler = RobustScaler()\n",
    "\n",
    "X = scaler.fit_transform(X)"
   ]
  },
  {
   "cell_type": "markdown",
   "id": "143c06f8",
   "metadata": {},
   "source": [
    "# Método 2: SHAP (SHapley Additive exPlanations)\n",
    "\n",
    "SHAP (SHapley Additive exPlanations) é uma técnica poderosa usada para explicar as saídas de qualquer modelo de machine learning. O SHAP conecta a teoria dos jogos com a interpretabilidade do modelo local, garantindo consistência e precisão na explicação das previsões do modelo. O método atribui a cada feature um valor de importância para a previsão, possibilitando uma compreensão detalhada e justa do comportamento do modelo.\n",
    "\n",
    "## Explicação para a função `perform_shap_analysis`\n",
    "\n",
    "A função `perform_shap_analysis` realiza uma análise SHAP em um modelo de machine learning fornecido. Esse tipo de análise é utilizado para entender a contribuição de cada característica (feature) para as predições do modelo, proporcionando uma interpretação mais profunda do modelo.\n",
    "\n",
    "## Como funciona?\n",
    "\n",
    "1. **Treinamento do Modelo:** \n",
    "   - O modelo fornecido é treinado usando os conjuntos de dados de treino (`X_train` e `y_train`).\n",
    "   \n",
    "2. **Escolha do Explicador:**\n",
    "   - O explicador adequado é escolhido com base no tipo de modelo fornecido: `TreeExplainer` para modelos baseados em árvore, `LinearExplainer` para modelos lineares e `KernelExplainer` para outros modelos.\n",
    "\n",
    "3. **Cálculo dos Valores SHAP:** \n",
    "   - Após o treinamento, a função utiliza o explicador escolhido para calcular os valores SHAP para o conjunto de testes (`X_test`). \n",
    "\n",
    "4. **Plots dos Valores SHAP:** \n",
    "   - A função então gera dois gráficos:\n",
    "     a. Um gráfico de força para uma única predição, mostrando a contribuição de cada característica para a predição.\n",
    "     b. Um gráfico de resumo para todas as características e todas as predições no conjunto de testes, fornecendo uma visão geral do impacto de cada característica nas predições do modelo.\n",
    "\n",
    "## Parâmetros da Função:\n",
    "\n",
    "- `modelo`: O modelo de machine learning para analisar.\n",
    "- `X_train`: Conjunto de dados de treino.\n",
    "- `X_test`: Conjunto de dados de teste.\n",
    "- `y_train`: Rótulos/targets do conjunto de dados de treino.\n",
    "- `y_test`: Rótulos/targets do conjunto de dados de teste.\n",
    "- `model_type`: Tipo do modelo para escolher o explicador SHAP adequado. Valores aceitáveis são \"tree\", \"linear\" e \"kernel\".\n",
    "\n",
    "Ao utilizar a função `perform_shap_analysis`, os usuários podem obter insights detalhados sobre a importância de cada característica nas predições do modelo, auxiliando na interpretação e validação do modelo em questão."
   ]
  },
  {
   "cell_type": "code",
   "execution_count": null,
   "id": "dcc8709e",
   "metadata": {},
   "outputs": [],
   "source": [
    "# Splitting the dataset\n",
    "X_train, X_test, y_train, y_test = train_test_split(X, Y, test_size=0.2)"
   ]
  },
  {
   "cell_type": "markdown",
   "id": "bcf1da92",
   "metadata": {},
   "source": [
    "### Suport Vector Regressor"
   ]
  },
  {
   "cell_type": "code",
   "execution_count": null,
   "id": "febb2e53",
   "metadata": {},
   "outputs": [],
   "source": [
    "model = SVR(kernel=\"linear\")\n",
    "perform_shap_analysis(model, X_train, X_test, y_train, y_test, model_type=\"kernel\")"
   ]
  },
  {
   "cell_type": "markdown",
   "id": "775e5ba3",
   "metadata": {},
   "source": [
    "### Gradient Boosting Regressor"
   ]
  },
  {
   "cell_type": "code",
   "execution_count": null,
   "id": "8e506c09",
   "metadata": {},
   "outputs": [],
   "source": [
    "model = GradientBoostingRegressor()\n",
    "perform_shap_analysis(model, X_train, X_test, y_train, y_test)"
   ]
  },
  {
   "cell_type": "markdown",
   "id": "80139a55",
   "metadata": {},
   "source": [
    "### Decision Tree Regressor"
   ]
  },
  {
   "cell_type": "code",
   "execution_count": null,
   "id": "c479cde6",
   "metadata": {},
   "outputs": [],
   "source": [
    "model = DecisionTreeRegressor()\n",
    "perform_shap_analysis(model, X_train, X_test, y_train, y_test)"
   ]
  },
  {
   "cell_type": "markdown",
   "id": "53be9712",
   "metadata": {},
   "source": [
    "### XGB Regressor"
   ]
  },
  {
   "cell_type": "code",
   "execution_count": null,
   "id": "f0f3c70e",
   "metadata": {},
   "outputs": [],
   "source": [
    "model = XGBRegressor(objective='reg:squarederror')\n",
    "perform_shap_analysis(model, X_train, X_test, y_train, y_test)"
   ]
  },
  {
   "cell_type": "markdown",
   "id": "3f31715b",
   "metadata": {},
   "source": [
    "### RandomForestRegressor"
   ]
  },
  {
   "cell_type": "code",
   "execution_count": null,
   "id": "edc28378",
   "metadata": {},
   "outputs": [],
   "source": [
    "model = RandomForestRegressor()\n",
    "perform_shap_analysis(model, X_train, X_test, y_train, y_test)"
   ]
  },
  {
   "cell_type": "markdown",
   "id": "85ee077f",
   "metadata": {},
   "source": [
    "### Linear Regression"
   ]
  },
  {
   "cell_type": "code",
   "execution_count": null,
   "id": "d6c7f5dc",
   "metadata": {},
   "outputs": [],
   "source": [
    "model = LinearRegression()\n",
    "perform_shap_analysis(model, X_train, X_test, y_train, y_test, model_type=\"linear\")"
   ]
  },
  {
   "cell_type": "code",
   "execution_count": null,
   "id": "b49892f5",
   "metadata": {},
   "outputs": [],
   "source": []
  }
 ],
 "metadata": {
  "kernelspec": {
   "display_name": "Python 3 (ipykernel)",
   "language": "python",
   "name": "python3"
  },
  "language_info": {
   "codemirror_mode": {
    "name": "ipython",
    "version": 3
   },
   "file_extension": ".py",
   "mimetype": "text/x-python",
   "name": "python",
   "nbconvert_exporter": "python",
   "pygments_lexer": "ipython3",
   "version": "3.10.9"
  }
 },
 "nbformat": 4,
 "nbformat_minor": 5
}
