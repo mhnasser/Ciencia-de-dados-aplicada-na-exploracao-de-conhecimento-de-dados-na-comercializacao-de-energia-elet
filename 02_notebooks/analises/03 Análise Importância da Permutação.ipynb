{
 "cells": [
  {
   "cell_type": "markdown",
   "id": "73d90c1b",
   "metadata": {},
   "source": [
    "# Imports"
   ]
  },
  {
   "cell_type": "code",
   "execution_count": 2,
   "id": "772990b0",
   "metadata": {},
   "outputs": [],
   "source": [
    "import pandas as pd\n",
    "import seaborn as sns\n",
    "import numpy as np\n",
    "import matplotlib.pyplot as plt\n",
    "import warnings\n",
    "\n",
    "from pathlib import Path\n",
    "from tqdm.notebook import tqdm\n",
    "from collections import defaultdict\n",
    "from sklearn.model_selection import train_test_split\n",
    "from sklearn.feature_selection import RFE\n",
    "from sklearn.linear_model import LinearRegression\n",
    "from sklearn.ensemble import RandomForestRegressor, GradientBoostingRegressor\n",
    "from sklearn.svm import SVR\n",
    "from sklearn.tree import DecisionTreeRegressor\n",
    "from xgboost import XGBRegressor\n",
    "from sklearn.inspection import permutation_importance\n",
    "from sklearn.preprocessing import RobustScaler"
   ]
  },
  {
   "cell_type": "markdown",
   "id": "e49fa1fc",
   "metadata": {},
   "source": [
    "# Configurações"
   ]
  },
  {
   "cell_type": "code",
   "execution_count": 3,
   "id": "33b870a6",
   "metadata": {},
   "outputs": [],
   "source": [
    "data_path = Path(r'..\\..\\01_dados\\01_dados_analise\\01_dados_anomalia.csv')"
   ]
  },
  {
   "cell_type": "markdown",
   "id": "4991df65",
   "metadata": {},
   "source": [
    "# Funções e Classes de objetos"
   ]
  },
  {
   "cell_type": "code",
   "execution_count": 4,
   "id": "e6e70a50",
   "metadata": {},
   "outputs": [],
   "source": [
    "def perform_permutation_importance(modelo, X_train, X_test, y_train, y_test):\n",
    "    \"\"\"\n",
    "    Realiza uma análise de importância da permutação em um modelo de machine learning fornecido.\n",
    "\n",
    "    Esta função treina o modelo fornecido usando o conjunto de treino e, em seguida, calcula a\n",
    "    importância da permutação para cada característica no conjunto de teste. Um gráfico de barras\n",
    "    é gerado para visualizar a importância de cada característica.\n",
    "\n",
    "    Parâmetros:\n",
    "        modelo (estimator): O modelo de machine learning para analisar.\n",
    "        X_train (array-like): Conjunto de dados de treino.\n",
    "        X_test (array-like): Conjunto de dados de teste.\n",
    "        y_train (array-like): Rótulos/targets do conjunto de dados de treino.\n",
    "        y_test (array-like): Rótulos/targets do conjunto de dados de teste.\n",
    "\n",
    "    Retorna:\n",
    "        None: A função não retorna nenhum valor. Um gráfico de barras é exibido como saída.\n",
    "    \n",
    "    Exemplo:\n",
    "        perform_permutation_importance(modelo, X_train, X_test, y_train, y_test)\n",
    "\n",
    "    Nota:\n",
    "        Certifique-se de que os dados de entrada estão devidamente preparados e limpos antes de usar\n",
    "        esta função. Erros podem ocorrer se os dados contiverem valores nulos ou inf.\n",
    "    \"\"\"\n",
    "\n",
    "    from sklearn.inspection import permutation_importance\n",
    "    import matplotlib.pyplot as plt\n",
    "\n",
    "    # Treinando o modelo\n",
    "    modelo.fit(X_train, y_train)\n",
    "    # Calculando a importância da permutação\n",
    "    result = permutation_importance(modelo, X_test, y_test, n_repeats=30, random_state=0)\n",
    "    # Plotando a importância da permutação\n",
    "    sorted_idx = result.importances_mean.argsort()\n",
    "    plt.barh(X_test.columns[sorted_idx], result.importances_mean[sorted_idx])\n",
    "    plt.xlabel(\"Importância da Permutação\")\n",
    "    plt.show()"
   ]
  },
  {
   "cell_type": "markdown",
   "id": "2d5e9d12",
   "metadata": {},
   "source": [
    "# Importação e preparação dos dados"
   ]
  },
  {
   "cell_type": "code",
   "execution_count": 5,
   "id": "ee7a5ae6",
   "metadata": {},
   "outputs": [
    {
     "data": {
      "text/html": [
       "<div>\n",
       "<style scoped>\n",
       "    .dataframe tbody tr th:only-of-type {\n",
       "        vertical-align: middle;\n",
       "    }\n",
       "\n",
       "    .dataframe tbody tr th {\n",
       "        vertical-align: top;\n",
       "    }\n",
       "\n",
       "    .dataframe thead th {\n",
       "        text-align: right;\n",
       "    }\n",
       "</style>\n",
       "<table border=\"1\" class=\"dataframe\">\n",
       "  <thead>\n",
       "    <tr style=\"text-align: right;\">\n",
       "      <th></th>\n",
       "      <th>id_subsistema</th>\n",
       "      <th>din_instante</th>\n",
       "      <th>Geração no Centro de Gravidade - MW médios (Gp,j) - MWh</th>\n",
       "      <th>Fator de Abatimento de Perdas Internas Instantâneas (F_PDIp,j)</th>\n",
       "      <th>Fator de Rateio das Perdas de Geração (UXP_GLFp,j)*</th>\n",
       "      <th>Deslocamento Hidráulico Energético Preliminar (DH_ENER_PRE_UHp,j)</th>\n",
       "      <th>Garantia física modulada ajustada pelo fator de disponibilidade (GFIS_2p,j)</th>\n",
       "      <th>Garantia Física de Repasse de Risco Hidrológico Modulada e Ajustada (GFIS_2_RRHp,j) - MWh</th>\n",
       "      <th>Garantis Física Modulada Ajustada de Repasse do Risco Hidrológico (GFIS_3_RRHp,j) - MWh</th>\n",
       "      <th>Fator de Risco Hidrológico aceito pelo gerador, variando entre 0 e 11% (Fp,j)</th>\n",
       "      <th>...</th>\n",
       "      <th>val_verifconstrainedoff</th>\n",
       "      <th>val_importacaoprogramada</th>\n",
       "      <th>val_importacaodespachada</th>\n",
       "      <th>val_importacaoverificada</th>\n",
       "      <th>val_preco_importacao</th>\n",
       "      <th>val_dispf</th>\n",
       "      <th>val_indisppf</th>\n",
       "      <th>val_indispff</th>\n",
       "      <th>val_intercambiomwmed</th>\n",
       "      <th>anomaly</th>\n",
       "    </tr>\n",
       "  </thead>\n",
       "  <tbody>\n",
       "    <tr>\n",
       "      <th>0</th>\n",
       "      <td>N</td>\n",
       "      <td>2018-01-06 00:00:00</td>\n",
       "      <td>8564.245664</td>\n",
       "      <td>18.764152</td>\n",
       "      <td>18.688987</td>\n",
       "      <td>108.091180</td>\n",
       "      <td>0.0</td>\n",
       "      <td>0.0</td>\n",
       "      <td>0.0</td>\n",
       "      <td>0.0</td>\n",
       "      <td>...</td>\n",
       "      <td>0.0</td>\n",
       "      <td>0.0</td>\n",
       "      <td>0.0</td>\n",
       "      <td>0.0</td>\n",
       "      <td>0.0</td>\n",
       "      <td>0.0</td>\n",
       "      <td>0.0</td>\n",
       "      <td>0.0</td>\n",
       "      <td>0.0</td>\n",
       "      <td>1</td>\n",
       "    </tr>\n",
       "    <tr>\n",
       "      <th>1</th>\n",
       "      <td>S</td>\n",
       "      <td>2018-01-06 00:00:00</td>\n",
       "      <td>7715.282975</td>\n",
       "      <td>213.306544</td>\n",
       "      <td>213.352056</td>\n",
       "      <td>89.507131</td>\n",
       "      <td>0.0</td>\n",
       "      <td>0.0</td>\n",
       "      <td>0.0</td>\n",
       "      <td>0.0</td>\n",
       "      <td>...</td>\n",
       "      <td>0.0</td>\n",
       "      <td>0.0</td>\n",
       "      <td>0.0</td>\n",
       "      <td>0.0</td>\n",
       "      <td>0.0</td>\n",
       "      <td>0.0</td>\n",
       "      <td>0.0</td>\n",
       "      <td>0.0</td>\n",
       "      <td>0.0</td>\n",
       "      <td>1</td>\n",
       "    </tr>\n",
       "    <tr>\n",
       "      <th>2</th>\n",
       "      <td>NE</td>\n",
       "      <td>2018-01-06 00:00:00</td>\n",
       "      <td>2825.618028</td>\n",
       "      <td>19.924679</td>\n",
       "      <td>19.714905</td>\n",
       "      <td>68.291389</td>\n",
       "      <td>0.0</td>\n",
       "      <td>0.0</td>\n",
       "      <td>0.0</td>\n",
       "      <td>0.0</td>\n",
       "      <td>...</td>\n",
       "      <td>0.0</td>\n",
       "      <td>0.0</td>\n",
       "      <td>0.0</td>\n",
       "      <td>0.0</td>\n",
       "      <td>0.0</td>\n",
       "      <td>0.0</td>\n",
       "      <td>0.0</td>\n",
       "      <td>0.0</td>\n",
       "      <td>0.0</td>\n",
       "      <td>1</td>\n",
       "    </tr>\n",
       "    <tr>\n",
       "      <th>3</th>\n",
       "      <td>SE</td>\n",
       "      <td>2018-01-06 00:00:00</td>\n",
       "      <td>30843.187134</td>\n",
       "      <td>373.242309</td>\n",
       "      <td>374.237593</td>\n",
       "      <td>371.119404</td>\n",
       "      <td>0.0</td>\n",
       "      <td>0.0</td>\n",
       "      <td>0.0</td>\n",
       "      <td>0.0</td>\n",
       "      <td>...</td>\n",
       "      <td>0.0</td>\n",
       "      <td>0.0</td>\n",
       "      <td>0.0</td>\n",
       "      <td>0.0</td>\n",
       "      <td>0.0</td>\n",
       "      <td>0.0</td>\n",
       "      <td>0.0</td>\n",
       "      <td>0.0</td>\n",
       "      <td>0.0</td>\n",
       "      <td>1</td>\n",
       "    </tr>\n",
       "    <tr>\n",
       "      <th>4</th>\n",
       "      <td>SE</td>\n",
       "      <td>2018-01-06 01:00:00</td>\n",
       "      <td>30513.088050</td>\n",
       "      <td>372.459187</td>\n",
       "      <td>374.129311</td>\n",
       "      <td>327.623405</td>\n",
       "      <td>0.0</td>\n",
       "      <td>0.0</td>\n",
       "      <td>0.0</td>\n",
       "      <td>0.0</td>\n",
       "      <td>...</td>\n",
       "      <td>0.0</td>\n",
       "      <td>0.0</td>\n",
       "      <td>0.0</td>\n",
       "      <td>0.0</td>\n",
       "      <td>0.0</td>\n",
       "      <td>0.0</td>\n",
       "      <td>0.0</td>\n",
       "      <td>0.0</td>\n",
       "      <td>0.0</td>\n",
       "      <td>1</td>\n",
       "    </tr>\n",
       "  </tbody>\n",
       "</table>\n",
       "<p>5 rows × 66 columns</p>\n",
       "</div>"
      ],
      "text/plain": [
       "  id_subsistema         din_instante  \\\n",
       "0             N  2018-01-06 00:00:00   \n",
       "1             S  2018-01-06 00:00:00   \n",
       "2            NE  2018-01-06 00:00:00   \n",
       "3            SE  2018-01-06 00:00:00   \n",
       "4            SE  2018-01-06 01:00:00   \n",
       "\n",
       "   Geração no Centro de Gravidade - MW médios (Gp,j) - MWh  \\\n",
       "0                                        8564.245664         \n",
       "1                                        7715.282975         \n",
       "2                                        2825.618028         \n",
       "3                                       30843.187134         \n",
       "4                                       30513.088050         \n",
       "\n",
       "   Fator de Abatimento de Perdas Internas Instantâneas (F_PDIp,j)  \\\n",
       "0                                          18.764152                \n",
       "1                                         213.306544                \n",
       "2                                          19.924679                \n",
       "3                                         373.242309                \n",
       "4                                         372.459187                \n",
       "\n",
       "   Fator de Rateio das Perdas de Geração (UXP_GLFp,j)*  \\\n",
       "0                                          18.688987     \n",
       "1                                         213.352056     \n",
       "2                                          19.714905     \n",
       "3                                         374.237593     \n",
       "4                                         374.129311     \n",
       "\n",
       "   Deslocamento Hidráulico Energético Preliminar (DH_ENER_PRE_UHp,j)  \\\n",
       "0                                         108.091180                   \n",
       "1                                          89.507131                   \n",
       "2                                          68.291389                   \n",
       "3                                         371.119404                   \n",
       "4                                         327.623405                   \n",
       "\n",
       "   Garantia física modulada ajustada pelo fator de disponibilidade (GFIS_2p,j)  \\\n",
       "0                                                0.0                             \n",
       "1                                                0.0                             \n",
       "2                                                0.0                             \n",
       "3                                                0.0                             \n",
       "4                                                0.0                             \n",
       "\n",
       "   Garantia Física de Repasse de Risco Hidrológico Modulada e Ajustada (GFIS_2_RRHp,j) - MWh  \\\n",
       "0                                                0.0                                           \n",
       "1                                                0.0                                           \n",
       "2                                                0.0                                           \n",
       "3                                                0.0                                           \n",
       "4                                                0.0                                           \n",
       "\n",
       "   Garantis Física Modulada Ajustada de Repasse do Risco Hidrológico (GFIS_3_RRHp,j) - MWh  \\\n",
       "0                                                0.0                                         \n",
       "1                                                0.0                                         \n",
       "2                                                0.0                                         \n",
       "3                                                0.0                                         \n",
       "4                                                0.0                                         \n",
       "\n",
       "   Fator de Risco Hidrológico aceito pelo gerador, variando entre 0 e 11% (Fp,j)  \\\n",
       "0                                                0.0                               \n",
       "1                                                0.0                               \n",
       "2                                                0.0                               \n",
       "3                                                0.0                               \n",
       "4                                                0.0                               \n",
       "\n",
       "   ...  val_verifconstrainedoff  val_importacaoprogramada  \\\n",
       "0  ...                      0.0                       0.0   \n",
       "1  ...                      0.0                       0.0   \n",
       "2  ...                      0.0                       0.0   \n",
       "3  ...                      0.0                       0.0   \n",
       "4  ...                      0.0                       0.0   \n",
       "\n",
       "   val_importacaodespachada  val_importacaoverificada  val_preco_importacao  \\\n",
       "0                       0.0                       0.0                   0.0   \n",
       "1                       0.0                       0.0                   0.0   \n",
       "2                       0.0                       0.0                   0.0   \n",
       "3                       0.0                       0.0                   0.0   \n",
       "4                       0.0                       0.0                   0.0   \n",
       "\n",
       "   val_dispf  val_indisppf  val_indispff  val_intercambiomwmed  anomaly  \n",
       "0        0.0           0.0           0.0                   0.0        1  \n",
       "1        0.0           0.0           0.0                   0.0        1  \n",
       "2        0.0           0.0           0.0                   0.0        1  \n",
       "3        0.0           0.0           0.0                   0.0        1  \n",
       "4        0.0           0.0           0.0                   0.0        1  \n",
       "\n",
       "[5 rows x 66 columns]"
      ]
     },
     "execution_count": 5,
     "metadata": {},
     "output_type": "execute_result"
    }
   ],
   "source": [
    "df = pd.read_csv(data_path)\n",
    "df.head()"
   ]
  },
  {
   "cell_type": "code",
   "execution_count": 6,
   "id": "9a37972b",
   "metadata": {},
   "outputs": [],
   "source": [
    "# colocando o cmo no final do dataframe para facilitar a manipulação dos dados\n",
    "cols = [col for col in df if col != 'cmo'] + ['cmo']\n",
    "df = df[cols]"
   ]
  },
  {
   "cell_type": "code",
   "execution_count": 12,
   "id": "7def94ae",
   "metadata": {},
   "outputs": [
    {
     "data": {
      "text/plain": [
       "0        2018-01-06 00:00:00\n",
       "1        2018-01-06 00:00:00\n",
       "2        2018-01-06 00:00:00\n",
       "3        2018-01-06 00:00:00\n",
       "4        2018-01-06 01:00:00\n",
       "                ...         \n",
       "81019    2022-05-31 22:00:00\n",
       "81020    2022-05-31 23:00:00\n",
       "81021    2022-05-31 23:00:00\n",
       "81022    2022-05-31 23:00:00\n",
       "81023    2022-05-31 23:00:00\n",
       "Name: din_instante, Length: 81024, dtype: object"
      ]
     },
     "execution_count": 12,
     "metadata": {},
     "output_type": "execute_result"
    }
   ],
   "source": [
    "df.din_instante"
   ]
  },
  {
   "cell_type": "code",
   "execution_count": 7,
   "id": "68d2c718",
   "metadata": {},
   "outputs": [],
   "source": [
    "df_aux = df.copy()\n",
    "df_aux.drop(['id_subsistema', 'din_instante'], inplace=True, axis=1)"
   ]
  },
  {
   "cell_type": "code",
   "execution_count": null,
   "id": "22964b4a",
   "metadata": {},
   "outputs": [],
   "source": [
    "# Separando as variáveis para modelagem X são as variáveis independentes e Y a Variável indepentende\n",
    "X = df_aux.iloc[:, :-1].values \n",
    "Y = df_aux.iloc[:, -1].values \n",
    "\n",
    "scaler = RobustScaler()\n",
    "\n",
    "X = scaler.fit_transform(X)"
   ]
  },
  {
   "cell_type": "markdown",
   "id": "d0f0db96",
   "metadata": {},
   "source": [
    "# Método 3: Importância de Permutação\n",
    "\n",
    "A Importância de Permutação é um conceito utilizado para calcular a importância de cada variável de um modelo de machine learning. Ela funciona embaralhando os valores de uma única característica e medindo o quanto essa mudança afeta a performance do modelo. Isso é feito para cada característica, proporcionando um ranking de importância das variáveis que ajuda a entender quais são as mais relevantes para as previsões do modelo.\n",
    "\n",
    "## Explicação para a função `perform_permutation_importance`\n",
    "\n",
    "A função `perform_permutation_importance` realiza uma análise de importância de permutação em um modelo de machine learning fornecido. Esta análise ajuda a entender a influência de cada característica na predição do modelo, proporcionando uma visão mais clara e profunda do comportamento do modelo.\n",
    "\n",
    "## Como funciona?\n",
    "\n",
    "1. **Treinamento do Modelo:** \n",
    "   - O modelo fornecido é treinado usando os conjuntos de dados de treino (`X_train` e `y_train`).\n",
    "\n",
    "2. **Cálculo da Importância de Permutação:** \n",
    "   - Após o treinamento, a função calcula a importância da permutação para cada característica no conjunto de teste (`X_test`). \n",
    "\n",
    "3. **Plot da Importância de Permutação:** \n",
    "   - A função então gera um gráfico de barras, visualizando a importância de cada característica.\n",
    "\n",
    "## Parâmetros da Função:\n",
    "\n",
    "- `modelo`: O modelo de machine learning para analisar.\n",
    "- `X_train`: Conjunto de dados de treino.\n",
    "- `X_test`: Conjunto de dados de teste.\n",
    "- `y_train`: Rótulos/targets do conjunto de dados de treino.\n",
    "- `y_test`: Rótulos/targets do conjunto de dados de teste."
   ]
  },
  {
   "cell_type": "code",
   "execution_count": null,
   "id": "606083c4",
   "metadata": {},
   "outputs": [],
   "source": [
    "# Splitting the dataset\n",
    "X_train, X_test, y_train, y_test = train_test_split(X, Y, test_size=0.2)"
   ]
  },
  {
   "cell_type": "markdown",
   "id": "cb6e6f66",
   "metadata": {},
   "source": [
    "### Suport Vector Regressor"
   ]
  },
  {
   "cell_type": "code",
   "execution_count": null,
   "id": "cf984321",
   "metadata": {},
   "outputs": [],
   "source": [
    "modelo = SVR(kernel=\"linear\")\n",
    "perform_permutation_importance(modelo, X_train, X_test, y_train, y_test)"
   ]
  },
  {
   "cell_type": "markdown",
   "id": "1fc99043",
   "metadata": {},
   "source": [
    "### Gradient Boosting Regressor"
   ]
  },
  {
   "cell_type": "code",
   "execution_count": null,
   "id": "38f0ff0e",
   "metadata": {},
   "outputs": [],
   "source": [
    "modelo = GradientBoostingRegressor()\n",
    "perform_permutation_importance(modelo, X_train, X_test, y_train, y_test)"
   ]
  },
  {
   "cell_type": "markdown",
   "id": "b27fd941",
   "metadata": {},
   "source": [
    "### Decision Tree Regressor"
   ]
  },
  {
   "cell_type": "code",
   "execution_count": null,
   "id": "f7539c90",
   "metadata": {},
   "outputs": [],
   "source": [
    "modelo = DecisionTreeRegressor()\n",
    "perform_permutation_importance(modelo, X_train, X_test, y_train, y_test)"
   ]
  },
  {
   "cell_type": "markdown",
   "id": "137d26e0",
   "metadata": {},
   "source": [
    "### XGB Regressor"
   ]
  },
  {
   "cell_type": "code",
   "execution_count": null,
   "id": "4e0ad2da",
   "metadata": {},
   "outputs": [],
   "source": [
    "modelo = XGBRegressor(objective ='reg:squarederror')\n",
    "perform_permutation_importance(modelo, X_train, X_test, y_train, y_test)"
   ]
  },
  {
   "cell_type": "markdown",
   "id": "cd1da6b4",
   "metadata": {},
   "source": [
    "### RandomForestRegressor"
   ]
  },
  {
   "cell_type": "code",
   "execution_count": null,
   "id": "3bda741e",
   "metadata": {},
   "outputs": [],
   "source": [
    "model = RandomForestRegressor()\n",
    "perform_shap_analysis(model, X_train, X_test, y_train, y_test)"
   ]
  },
  {
   "cell_type": "markdown",
   "id": "b7d7e048",
   "metadata": {},
   "source": [
    "### Linear Regression"
   ]
  },
  {
   "cell_type": "code",
   "execution_count": null,
   "id": "eb7bae90",
   "metadata": {},
   "outputs": [],
   "source": [
    "model = LinearRegression()\n",
    "perform_shap_analysis(model, X_train, X_test, y_train, y_test, model_type=\"linear\")"
   ]
  },
  {
   "cell_type": "code",
   "execution_count": null,
   "id": "92300367",
   "metadata": {},
   "outputs": [],
   "source": []
  }
 ],
 "metadata": {
  "kernelspec": {
   "display_name": "Python 3 (ipykernel)",
   "language": "python",
   "name": "python3"
  },
  "language_info": {
   "codemirror_mode": {
    "name": "ipython",
    "version": 3
   },
   "file_extension": ".py",
   "mimetype": "text/x-python",
   "name": "python",
   "nbconvert_exporter": "python",
   "pygments_lexer": "ipython3",
   "version": "3.10.9"
  }
 },
 "nbformat": 4,
 "nbformat_minor": 5
}
